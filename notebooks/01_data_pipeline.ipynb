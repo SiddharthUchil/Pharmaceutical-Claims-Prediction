{
 "cells": [
  {
   "cell_type": "markdown",
   "id": "c8211120",
   "metadata": {},
   "source": [
    "**Table of contents**<a id='toc0_'></a>    \n",
    "- [<b>Import Libraries</b>](#toc1_)    \n",
    "- [<b>1. Load Dataset</b>](#toc2_)    \n",
    "  - [Load Configuration File](#toc2_1_)    \n",
    "  - [Data Collection](#toc2_2_)    \n",
    "- [<b>2. Data Validation </b>](#toc3_)    \n",
    "  - [Types of Data](#toc3_1_)    \n",
    "  - [Data Range](#toc3_2_)    \n",
    "  - [<b>Data Dimension </b>](#toc3_3_)    \n",
    "- [<b>Handling Columns Type</b>](#toc4_)    \n",
    "  - [Check Dataset Type](#toc4_1_)    \n",
    "- [<b>Handling data category</b>](#toc5_)    \n",
    "- [<b>Data Defense</b>](#toc6_)    \n",
    "- [<b>Splitting Data</b>](#toc7_)    \n",
    "  - [<b>Split Train and Test Data (7:3)</b>](#toc7_1_)    \n",
    "  - [<b>Split Valid and Test Data (1:1)</b>](#toc7_2_)    \n",
    "\n",
    "<!-- vscode-jupyter-toc-config\n",
    "\tnumbering=false\n",
    "\tanchor=true\n",
    "\tflat=false\n",
    "\tminLevel=1\n",
    "\tmaxLevel=6\n",
    "\t/vscode-jupyter-toc-config -->\n",
    "<!-- THIS CELL WILL BE REPLACED ON TOC UPDATE. DO NOT WRITE YOUR TEXT IN THIS CELL -->"
   ]
  },
  {
   "cell_type": "markdown",
   "id": "b722c1fa",
   "metadata": {},
   "source": [
    "# <a id='toc1_'></a>[<b>Import Libraries</b>](#toc0_)"
   ]
  },
  {
   "cell_type": "code",
   "execution_count": 1,
   "id": "26e948e2",
   "metadata": {},
   "outputs": [],
   "source": [
    "from tqdm import tqdm\n",
    "from sklearn.model_selection import train_test_split\n",
    "import pandas as pd\n",
    "import numpy as np \n",
    "import matplotlib.pyplot as plt\n",
    "import seaborn as sns\n",
    "import src.util as util\n",
    "import joblib\n",
    "import os\n",
    "import yaml\n",
    "import copy\n",
    "\n",
    "import warnings\n",
    "warnings.filterwarnings('ignore')"
   ]
  },
  {
   "cell_type": "code",
   "execution_count": 2,
   "id": "73808e0b",
   "metadata": {},
   "outputs": [],
   "source": [
    "class clr:\n",
    "    start = '\\033[93m' + '\\033[1m'\n",
    "    bold = '\\033[1m'\n",
    "    underline = '\\033[4m'\n",
    "    color = '\\033[93m'\n",
    "    end = '\\033[0m'"
   ]
  },
  {
   "cell_type": "markdown",
   "id": "e00205f5",
   "metadata": {},
   "source": [
    "# <a id='toc2_'></a>[<b>1. Load Dataset</b>](#toc0_)"
   ]
  },
  {
   "cell_type": "markdown",
   "id": "f69e0f5c",
   "metadata": {},
   "source": [
    "## <a id='toc2_1_'></a>[Load Configuration File](#toc0_)"
   ]
  },
  {
   "cell_type": "code",
   "execution_count": 3,
   "id": "73e1d19e",
   "metadata": {},
   "outputs": [],
   "source": [
    "config_data = util.load_config()"
   ]
  },
  {
   "cell_type": "markdown",
   "id": "10574a98",
   "metadata": {},
   "source": [
    "## <a id='toc2_2_'></a>[Data Collection](#toc0_)"
   ]
  },
  {
   "cell_type": "code",
   "execution_count": 4,
   "id": "08cafc51",
   "metadata": {},
   "outputs": [],
   "source": [
    "def read_raw_data(config: dict) -> pd.DataFrame:\n",
    "    # Create variable to store raw dataset\n",
    "    raw_dataset = pd.DataFrame()\n",
    "\n",
    "    # Raw Dataset Dir\n",
    "    raw_dataset_dir = config[\"raw_dataset_dir\"]\n",
    "\n",
    "    # Look and load add csv files\n",
    "    for i in tqdm(os.listdir(raw_dataset_dir)):\n",
    "        raw_dataset = pd.concat([pd.read_csv(raw_dataset_dir + i), raw_dataset])\n",
    "    \n",
    "    # Return raw dataset\n",
    "    return raw_dataset"
   ]
  },
  {
   "cell_type": "code",
   "execution_count": 5,
   "id": "337a2d49",
   "metadata": {},
   "outputs": [
    {
     "name": "stderr",
     "output_type": "stream",
     "text": [
      "100%|██████████| 1/1 [00:00<00:00,  3.29it/s]\n"
     ]
    }
   ],
   "source": [
    "raw_dataset = read_raw_data(config_data)"
   ]
  },
  {
   "cell_type": "code",
   "execution_count": 6,
   "id": "1731d3c3",
   "metadata": {},
   "outputs": [
    {
     "data": {
      "text/html": [
       "<style type=\"text/css\">\n",
       "#T_83e10_row0_col5, #T_83e10_row0_col9, #T_83e10_row1_col5, #T_83e10_row3_col5, #T_83e10_row4_col5, #T_83e10_row4_col7 {\n",
       "  background-color: #662506;\n",
       "  color: #f1f1f1;\n",
       "}\n",
       "#T_83e10_row0_col7 {\n",
       "  background-color: #e2650f;\n",
       "  color: #f1f1f1;\n",
       "}\n",
       "#T_83e10_row0_col15, #T_83e10_row1_col15, #T_83e10_row2_col5, #T_83e10_row2_col15, #T_83e10_row3_col7, #T_83e10_row3_col9, #T_83e10_row3_col15, #T_83e10_row4_col15 {\n",
       "  background-color: #ffffe5;\n",
       "  color: #000000;\n",
       "}\n",
       "#T_83e10_row1_col7 {\n",
       "  background-color: #fffacd;\n",
       "  color: #000000;\n",
       "}\n",
       "#T_83e10_row1_col9 {\n",
       "  background-color: #fe9829;\n",
       "  color: #000000;\n",
       "}\n",
       "#T_83e10_row2_col7 {\n",
       "  background-color: #fecd63;\n",
       "  color: #000000;\n",
       "}\n",
       "#T_83e10_row2_col9 {\n",
       "  background-color: #d75908;\n",
       "  color: #f1f1f1;\n",
       "}\n",
       "#T_83e10_row4_col9 {\n",
       "  background-color: #b84203;\n",
       "  color: #f1f1f1;\n",
       "}\n",
       "</style>\n",
       "<table id=\"T_83e10\">\n",
       "  <thead>\n",
       "    <tr>\n",
       "      <th class=\"blank level0\" >&nbsp;</th>\n",
       "      <th id=\"T_83e10_level0_col0\" class=\"col_heading level0 col0\" >Label1</th>\n",
       "      <th id=\"T_83e10_level0_col1\" class=\"col_heading level0 col1\" >Label2</th>\n",
       "      <th id=\"T_83e10_level0_col2\" class=\"col_heading level0 col2\" >DINLevel1ClassCode</th>\n",
       "      <th id=\"T_83e10_level0_col3\" class=\"col_heading level0 col3\" >ExpenseType</th>\n",
       "      <th id=\"T_83e10_level0_col4\" class=\"col_heading level0 col4\" >ReceivedDate</th>\n",
       "      <th id=\"T_83e10_level0_col5\" class=\"col_heading level0 col5\" >MemberIDscrambled</th>\n",
       "      <th id=\"T_83e10_level0_col6\" class=\"col_heading level0 col6\" >ClaimSubmissionChannel</th>\n",
       "      <th id=\"T_83e10_level0_col7\" class=\"col_heading level0 col7\" >ClaimantAge</th>\n",
       "      <th id=\"T_83e10_level0_col8\" class=\"col_heading level0 col8\" >ClaimantGender</th>\n",
       "      <th id=\"T_83e10_level0_col9\" class=\"col_heading level0 col9\" >FacilityIDscrambled</th>\n",
       "      <th id=\"T_83e10_level0_col10\" class=\"col_heading level0 col10\" >MemberCity</th>\n",
       "      <th id=\"T_83e10_level0_col11\" class=\"col_heading level0 col11\" >MemberProvince</th>\n",
       "      <th id=\"T_83e10_level0_col12\" class=\"col_heading level0 col12\" >PaymentIssueDate</th>\n",
       "      <th id=\"T_83e10_level0_col13\" class=\"col_heading level0 col13\" >ServiceDate</th>\n",
       "      <th id=\"T_83e10_level0_col14\" class=\"col_heading level0 col14\" >SubmittedAmount</th>\n",
       "      <th id=\"T_83e10_level0_col15\" class=\"col_heading level0 col15\" >UniqueClaimCount</th>\n",
       "    </tr>\n",
       "  </thead>\n",
       "  <tbody>\n",
       "    <tr>\n",
       "      <th id=\"T_83e10_level0_row0\" class=\"row_heading level0 row0\" >0</th>\n",
       "      <td id=\"T_83e10_row0_col0\" class=\"data row0 col0\" >False</td>\n",
       "      <td id=\"T_83e10_row0_col1\" class=\"data row0 col1\" >False</td>\n",
       "      <td id=\"T_83e10_row0_col2\" class=\"data row0 col2\" >D</td>\n",
       "      <td id=\"T_83e10_row0_col3\" class=\"data row0 col3\" >Drug</td>\n",
       "      <td id=\"T_83e10_row0_col4\" class=\"data row0 col4\" >01/03/2023</td>\n",
       "      <td id=\"T_83e10_row0_col5\" class=\"data row0 col5\" >37567</td>\n",
       "      <td id=\"T_83e10_row0_col6\" class=\"data row0 col6\" >Web</td>\n",
       "      <td id=\"T_83e10_row0_col7\" class=\"data row0 col7\" >60</td>\n",
       "      <td id=\"T_83e10_row0_col8\" class=\"data row0 col8\" >F</td>\n",
       "      <td id=\"T_83e10_row0_col9\" class=\"data row0 col9\" >5182</td>\n",
       "      <td id=\"T_83e10_row0_col10\" class=\"data row0 col10\" >Deer Lake</td>\n",
       "      <td id=\"T_83e10_row0_col11\" class=\"data row0 col11\" >NFLD</td>\n",
       "      <td id=\"T_83e10_row0_col12\" class=\"data row0 col12\" >21/03/2023</td>\n",
       "      <td id=\"T_83e10_row0_col13\" class=\"data row0 col13\" >01/02/2023</td>\n",
       "      <td id=\"T_83e10_row0_col14\" class=\"data row0 col14\" >$88.21</td>\n",
       "      <td id=\"T_83e10_row0_col15\" class=\"data row0 col15\" >1</td>\n",
       "    </tr>\n",
       "    <tr>\n",
       "      <th id=\"T_83e10_level0_row1\" class=\"row_heading level0 row1\" >1</th>\n",
       "      <td id=\"T_83e10_row1_col0\" class=\"data row1 col0\" >False</td>\n",
       "      <td id=\"T_83e10_row1_col1\" class=\"data row1 col1\" >False</td>\n",
       "      <td id=\"T_83e10_row1_col2\" class=\"data row1 col2\" >D</td>\n",
       "      <td id=\"T_83e10_row1_col3\" class=\"data row1 col3\" >Drug</td>\n",
       "      <td id=\"T_83e10_row1_col4\" class=\"data row1 col4\" >01/03/2023</td>\n",
       "      <td id=\"T_83e10_row1_col5\" class=\"data row1 col5\" >37580</td>\n",
       "      <td id=\"T_83e10_row1_col6\" class=\"data row1 col6\" >Pay Direct Drug</td>\n",
       "      <td id=\"T_83e10_row1_col7\" class=\"data row1 col7\" >22</td>\n",
       "      <td id=\"T_83e10_row1_col8\" class=\"data row1 col8\" >F</td>\n",
       "      <td id=\"T_83e10_row1_col9\" class=\"data row1 col9\" >2758</td>\n",
       "      <td id=\"T_83e10_row1_col10\" class=\"data row1 col10\" >Airdrie</td>\n",
       "      <td id=\"T_83e10_row1_col11\" class=\"data row1 col11\" >ALTA</td>\n",
       "      <td id=\"T_83e10_row1_col12\" class=\"data row1 col12\" >12/02/2023</td>\n",
       "      <td id=\"T_83e10_row1_col13\" class=\"data row1 col13\" >12/02/2023</td>\n",
       "      <td id=\"T_83e10_row1_col14\" class=\"data row1 col14\" >$236.91</td>\n",
       "      <td id=\"T_83e10_row1_col15\" class=\"data row1 col15\" >1</td>\n",
       "    </tr>\n",
       "    <tr>\n",
       "      <th id=\"T_83e10_level0_row2\" class=\"row_heading level0 row2\" >2</th>\n",
       "      <td id=\"T_83e10_row2_col0\" class=\"data row2 col0\" >False</td>\n",
       "      <td id=\"T_83e10_row2_col1\" class=\"data row2 col1\" >False</td>\n",
       "      <td id=\"T_83e10_row2_col2\" class=\"data row2 col2\" >D</td>\n",
       "      <td id=\"T_83e10_row2_col3\" class=\"data row2 col3\" >Drug</td>\n",
       "      <td id=\"T_83e10_row2_col4\" class=\"data row2 col4\" >01/03/2023</td>\n",
       "      <td id=\"T_83e10_row2_col5\" class=\"data row2 col5\" >22027</td>\n",
       "      <td id=\"T_83e10_row2_col6\" class=\"data row2 col6\" >Pay Direct Drug</td>\n",
       "      <td id=\"T_83e10_row2_col7\" class=\"data row2 col7\" >39</td>\n",
       "      <td id=\"T_83e10_row2_col8\" class=\"data row2 col8\" >F</td>\n",
       "      <td id=\"T_83e10_row2_col9\" class=\"data row2 col9\" >3746</td>\n",
       "      <td id=\"T_83e10_row2_col10\" class=\"data row2 col10\" >ORLEANS</td>\n",
       "      <td id=\"T_83e10_row2_col11\" class=\"data row2 col11\" >ONT</td>\n",
       "      <td id=\"T_83e10_row2_col12\" class=\"data row2 col12\" >01/03/2023</td>\n",
       "      <td id=\"T_83e10_row2_col13\" class=\"data row2 col13\" >01/03/2023</td>\n",
       "      <td id=\"T_83e10_row2_col14\" class=\"data row2 col14\" >$12.90</td>\n",
       "      <td id=\"T_83e10_row2_col15\" class=\"data row2 col15\" >1</td>\n",
       "    </tr>\n",
       "    <tr>\n",
       "      <th id=\"T_83e10_level0_row3\" class=\"row_heading level0 row3\" >3</th>\n",
       "      <td id=\"T_83e10_row3_col0\" class=\"data row3 col0\" >False</td>\n",
       "      <td id=\"T_83e10_row3_col1\" class=\"data row3 col1\" >False</td>\n",
       "      <td id=\"T_83e10_row3_col2\" class=\"data row3 col2\" >D</td>\n",
       "      <td id=\"T_83e10_row3_col3\" class=\"data row3 col3\" >Drug</td>\n",
       "      <td id=\"T_83e10_row3_col4\" class=\"data row3 col4\" >01/03/2023</td>\n",
       "      <td id=\"T_83e10_row3_col5\" class=\"data row3 col5\" >37581</td>\n",
       "      <td id=\"T_83e10_row3_col6\" class=\"data row3 col6\" >Pay Direct Drug</td>\n",
       "      <td id=\"T_83e10_row3_col7\" class=\"data row3 col7\" >17</td>\n",
       "      <td id=\"T_83e10_row3_col8\" class=\"data row3 col8\" >F</td>\n",
       "      <td id=\"T_83e10_row3_col9\" class=\"data row3 col9\" >331</td>\n",
       "      <td id=\"T_83e10_row3_col10\" class=\"data row3 col10\" >OTTAWA</td>\n",
       "      <td id=\"T_83e10_row3_col11\" class=\"data row3 col11\" >ONT</td>\n",
       "      <td id=\"T_83e10_row3_col12\" class=\"data row3 col12\" >01/03/2023</td>\n",
       "      <td id=\"T_83e10_row3_col13\" class=\"data row3 col13\" >01/03/2023</td>\n",
       "      <td id=\"T_83e10_row3_col14\" class=\"data row3 col14\" >$118.13</td>\n",
       "      <td id=\"T_83e10_row3_col15\" class=\"data row3 col15\" >1</td>\n",
       "    </tr>\n",
       "    <tr>\n",
       "      <th id=\"T_83e10_level0_row4\" class=\"row_heading level0 row4\" >4</th>\n",
       "      <td id=\"T_83e10_row4_col0\" class=\"data row4 col0\" >False</td>\n",
       "      <td id=\"T_83e10_row4_col1\" class=\"data row4 col1\" >False</td>\n",
       "      <td id=\"T_83e10_row4_col2\" class=\"data row4 col2\" >C</td>\n",
       "      <td id=\"T_83e10_row4_col3\" class=\"data row4 col3\" >Drug</td>\n",
       "      <td id=\"T_83e10_row4_col4\" class=\"data row4 col4\" >01/03/2023</td>\n",
       "      <td id=\"T_83e10_row4_col5\" class=\"data row4 col5\" >37582</td>\n",
       "      <td id=\"T_83e10_row4_col6\" class=\"data row4 col6\" >Pay Direct Drug</td>\n",
       "      <td id=\"T_83e10_row4_col7\" class=\"data row4 col7\" >82</td>\n",
       "      <td id=\"T_83e10_row4_col8\" class=\"data row4 col8\" >F</td>\n",
       "      <td id=\"T_83e10_row4_col9\" class=\"data row4 col9\" >4215</td>\n",
       "      <td id=\"T_83e10_row4_col10\" class=\"data row4 col10\" >LEDUC</td>\n",
       "      <td id=\"T_83e10_row4_col11\" class=\"data row4 col11\" >ALTA</td>\n",
       "      <td id=\"T_83e10_row4_col12\" class=\"data row4 col12\" >01/03/2023</td>\n",
       "      <td id=\"T_83e10_row4_col13\" class=\"data row4 col13\" >01/03/2023</td>\n",
       "      <td id=\"T_83e10_row4_col14\" class=\"data row4 col14\" >$126.60</td>\n",
       "      <td id=\"T_83e10_row4_col15\" class=\"data row4 col15\" >1</td>\n",
       "    </tr>\n",
       "  </tbody>\n",
       "</table>\n"
      ],
      "text/plain": [
       "<pandas.io.formats.style.Styler at 0x1ea21489b40>"
      ]
     },
     "execution_count": 6,
     "metadata": {},
     "output_type": "execute_result"
    }
   ],
   "source": [
    "# dataset = pd.read_csv('insurance_claims.csv')\n",
    "pd.set_option('display.max_columns', None)\n",
    "\n",
    "raw_dataset.head().style.background_gradient(cmap='YlOrBr')"
   ]
  },
  {
   "cell_type": "code",
   "execution_count": 7,
   "id": "4cad2873",
   "metadata": {},
   "outputs": [],
   "source": [
    "# Save raw dataset to file\n",
    "util.pickle_dump(raw_dataset, config_data[\"raw_dataset_path\"])"
   ]
  },
  {
   "cell_type": "markdown",
   "id": "9f5676d0",
   "metadata": {},
   "source": [
    "# <a id='toc3_'></a>[<b>2. Data Validation </b>](#toc0_)"
   ]
  },
  {
   "cell_type": "markdown",
   "id": "c1b95b9c",
   "metadata": {},
   "source": [
    "## <a id='toc3_1_'></a>[Types of Data](#toc0_)"
   ]
  },
  {
   "cell_type": "code",
   "execution_count": 8,
   "id": "9cdd9214",
   "metadata": {},
   "outputs": [
    {
     "data": {
      "text/plain": [
       "Label1                      bool\n",
       "Label2                      bool\n",
       "DINLevel1ClassCode        object\n",
       "ExpenseType               object\n",
       "ReceivedDate              object\n",
       "MemberIDscrambled          int64\n",
       "ClaimSubmissionChannel    object\n",
       "ClaimantAge                int64\n",
       "ClaimantGender            object\n",
       "FacilityIDscrambled        int64\n",
       "MemberCity                object\n",
       "MemberProvince            object\n",
       "PaymentIssueDate          object\n",
       "ServiceDate               object\n",
       "SubmittedAmount           object\n",
       "UniqueClaimCount           int64\n",
       "dtype: object"
      ]
     },
     "execution_count": 8,
     "metadata": {},
     "output_type": "execute_result"
    }
   ],
   "source": [
    "raw_dataset.dtypes"
   ]
  },
  {
   "cell_type": "markdown",
   "id": "2dc985df",
   "metadata": {},
   "source": [
    "## <a id='toc3_2_'></a>[Data Range](#toc0_)"
   ]
  },
  {
   "cell_type": "code",
   "execution_count": 9,
   "id": "7c5a1f73",
   "metadata": {},
   "outputs": [
    {
     "data": {
      "text/html": [
       "<style type=\"text/css\">\n",
       "#T_e1085 thead tr th:nth-child(1) {\n",
       "  position: sticky;\n",
       "  background-color: inherit;\n",
       "  left: 0px;\n",
       "  z-index: 3 !important;\n",
       "}\n",
       "#T_e1085 tbody tr th:nth-child(1) {\n",
       "  position: sticky;\n",
       "  background-color: inherit;\n",
       "  left: 0px;\n",
       "  z-index: 1;\n",
       "}\n",
       "#T_e1085_row0_col0, #T_e1085_row0_col1, #T_e1085_row0_col2, #T_e1085_row0_col3 {\n",
       "  background-color: #023858;\n",
       "  color: #f1f1f1;\n",
       "}\n",
       "#T_e1085_row1_col0 {\n",
       "  background-color: #bdc8e1;\n",
       "  color: #000000;\n",
       "}\n",
       "#T_e1085_row1_col1, #T_e1085_row1_col3, #T_e1085_row2_col1, #T_e1085_row2_col3, #T_e1085_row3_col0, #T_e1085_row3_col1, #T_e1085_row3_col2, #T_e1085_row3_col3, #T_e1085_row4_col1, #T_e1085_row4_col3, #T_e1085_row5_col1, #T_e1085_row5_col3, #T_e1085_row6_col1, #T_e1085_row6_col3, #T_e1085_row7_col1, #T_e1085_row7_col3 {\n",
       "  background-color: #fff7fb;\n",
       "  color: #000000;\n",
       "}\n",
       "#T_e1085_row1_col2 {\n",
       "  background-color: #fbf3f9;\n",
       "  color: #000000;\n",
       "}\n",
       "#T_e1085_row2_col0 {\n",
       "  background-color: #dddbec;\n",
       "  color: #000000;\n",
       "}\n",
       "#T_e1085_row2_col2 {\n",
       "  background-color: #fcf4fa;\n",
       "  color: #000000;\n",
       "}\n",
       "#T_e1085_row4_col0 {\n",
       "  background-color: #ebe6f2;\n",
       "  color: #000000;\n",
       "}\n",
       "#T_e1085_row4_col2 {\n",
       "  background-color: #fef6fa;\n",
       "  color: #000000;\n",
       "}\n",
       "#T_e1085_row5_col0 {\n",
       "  background-color: #bcc7e1;\n",
       "  color: #000000;\n",
       "}\n",
       "#T_e1085_row5_col2 {\n",
       "  background-color: #fbf4f9;\n",
       "  color: #000000;\n",
       "}\n",
       "#T_e1085_row6_col0 {\n",
       "  background-color: #7eadd1;\n",
       "  color: #f1f1f1;\n",
       "}\n",
       "#T_e1085_row6_col2 {\n",
       "  background-color: #f8f1f8;\n",
       "  color: #000000;\n",
       "}\n",
       "#T_e1085_row7_col0 {\n",
       "  background-color: #2c89bd;\n",
       "  color: #f1f1f1;\n",
       "}\n",
       "#T_e1085_row7_col2 {\n",
       "  background-color: #f1ebf5;\n",
       "  color: #000000;\n",
       "}\n",
       "</style>\n",
       "<table id=\"T_e1085\">\n",
       "  <thead>\n",
       "    <tr>\n",
       "      <th class=\"blank level0\" >&nbsp;</th>\n",
       "      <th id=\"T_e1085_level0_col0\" class=\"col_heading level0 col0\" >MemberIDscrambled</th>\n",
       "      <th id=\"T_e1085_level0_col1\" class=\"col_heading level0 col1\" >ClaimantAge</th>\n",
       "      <th id=\"T_e1085_level0_col2\" class=\"col_heading level0 col2\" >FacilityIDscrambled</th>\n",
       "      <th id=\"T_e1085_level0_col3\" class=\"col_heading level0 col3\" >UniqueClaimCount</th>\n",
       "    </tr>\n",
       "  </thead>\n",
       "  <tbody>\n",
       "    <tr>\n",
       "      <th id=\"T_e1085_level0_row0\" class=\"row_heading level0 row0\" >count</th>\n",
       "      <td id=\"T_e1085_row0_col0\" class=\"data row0 col0\" >107752.000000</td>\n",
       "      <td id=\"T_e1085_row0_col1\" class=\"data row0 col1\" >107752.000000</td>\n",
       "      <td id=\"T_e1085_row0_col2\" class=\"data row0 col2\" >107752.000000</td>\n",
       "      <td id=\"T_e1085_row0_col3\" class=\"data row0 col3\" >107752.000000</td>\n",
       "    </tr>\n",
       "    <tr>\n",
       "      <th id=\"T_e1085_level0_row1\" class=\"row_heading level0 row1\" >mean</th>\n",
       "      <td id=\"T_e1085_row1_col0\" class=\"data row1 col0\" >32994.165148</td>\n",
       "      <td id=\"T_e1085_row1_col1\" class=\"data row1 col1\" >59.592982</td>\n",
       "      <td id=\"T_e1085_row1_col2\" class=\"data row1 col2\" >3248.037568</td>\n",
       "      <td id=\"T_e1085_row1_col3\" class=\"data row1 col3\" >1.000000</td>\n",
       "    </tr>\n",
       "    <tr>\n",
       "      <th id=\"T_e1085_level0_row2\" class=\"row_heading level0 row2\" >std</th>\n",
       "      <td id=\"T_e1085_row2_col0\" class=\"data row2 col0\" >20973.990960</td>\n",
       "      <td id=\"T_e1085_row2_col1\" class=\"data row2 col1\" >15.950108</td>\n",
       "      <td id=\"T_e1085_row2_col2\" class=\"data row2 col2\" >2456.997025</td>\n",
       "      <td id=\"T_e1085_row2_col3\" class=\"data row2 col3\" >0.000000</td>\n",
       "    </tr>\n",
       "    <tr>\n",
       "      <th id=\"T_e1085_level0_row3\" class=\"row_heading level0 row3\" >min</th>\n",
       "      <td id=\"T_e1085_row3_col0\" class=\"data row3 col0\" >1.000000</td>\n",
       "      <td id=\"T_e1085_row3_col1\" class=\"data row3 col1\" >0.000000</td>\n",
       "      <td id=\"T_e1085_row3_col2\" class=\"data row3 col2\" >1.000000</td>\n",
       "      <td id=\"T_e1085_row3_col3\" class=\"data row3 col3\" >1.000000</td>\n",
       "    </tr>\n",
       "    <tr>\n",
       "      <th id=\"T_e1085_level0_row4\" class=\"row_heading level0 row4\" >25%</th>\n",
       "      <td id=\"T_e1085_row4_col0\" class=\"data row4 col0\" >14112.750000</td>\n",
       "      <td id=\"T_e1085_row4_col1\" class=\"data row4 col1\" >51.000000</td>\n",
       "      <td id=\"T_e1085_row4_col2\" class=\"data row4 col2\" >1136.000000</td>\n",
       "      <td id=\"T_e1085_row4_col3\" class=\"data row4 col3\" >1.000000</td>\n",
       "    </tr>\n",
       "    <tr>\n",
       "      <th id=\"T_e1085_level0_row5\" class=\"row_heading level0 row5\" >50%</th>\n",
       "      <td id=\"T_e1085_row5_col0\" class=\"data row5 col0\" >33504.500000</td>\n",
       "      <td id=\"T_e1085_row5_col1\" class=\"data row5 col1\" >61.000000</td>\n",
       "      <td id=\"T_e1085_row5_col2\" class=\"data row5 col2\" >2792.000000</td>\n",
       "      <td id=\"T_e1085_row5_col3\" class=\"data row5 col3\" >1.000000</td>\n",
       "    </tr>\n",
       "    <tr>\n",
       "      <th id=\"T_e1085_level0_row6\" class=\"row_heading level0 row6\" >75%</th>\n",
       "      <td id=\"T_e1085_row6_col0\" class=\"data row6 col0\" >50970.000000</td>\n",
       "      <td id=\"T_e1085_row6_col1\" class=\"data row6 col1\" >71.000000</td>\n",
       "      <td id=\"T_e1085_row6_col2\" class=\"data row6 col2\" >4890.000000</td>\n",
       "      <td id=\"T_e1085_row6_col3\" class=\"data row6 col3\" >1.000000</td>\n",
       "    </tr>\n",
       "    <tr>\n",
       "      <th id=\"T_e1085_level0_row7\" class=\"row_heading level0 row7\" >max</th>\n",
       "      <td id=\"T_e1085_row7_col0\" class=\"data row7 col0\" >70166.000000</td>\n",
       "      <td id=\"T_e1085_row7_col1\" class=\"data row7 col1\" >109.000000</td>\n",
       "      <td id=\"T_e1085_row7_col2\" class=\"data row7 col2\" >9766.000000</td>\n",
       "      <td id=\"T_e1085_row7_col3\" class=\"data row7 col3\" >1.000000</td>\n",
       "    </tr>\n",
       "  </tbody>\n",
       "</table>\n"
      ],
      "text/plain": [
       "<pandas.io.formats.style.Styler at 0x1ea70040eb0>"
      ]
     },
     "execution_count": 9,
     "metadata": {},
     "output_type": "execute_result"
    }
   ],
   "source": [
    "# some columns have minimum value of zero, this value has been encoded as a missing value \n",
    "# instead of None Value or Misig cell.\n",
    "\n",
    "raw_dataset.describe().style.set_sticky(axis=\"index\").background_gradient()"
   ]
  },
  {
   "cell_type": "markdown",
   "id": "26e7bcc1",
   "metadata": {},
   "source": [
    "## <a id='toc3_3_'></a>[<b>Data Dimension </b>](#toc0_)"
   ]
  },
  {
   "cell_type": "code",
   "execution_count": 10,
   "id": "7a8c7abd",
   "metadata": {},
   "outputs": [
    {
     "data": {
      "text/plain": [
       "(107752, 16)"
      ]
     },
     "execution_count": 10,
     "metadata": {},
     "output_type": "execute_result"
    }
   ],
   "source": [
    "raw_dataset.shape"
   ]
  },
  {
   "cell_type": "markdown",
   "id": "c357d8c6",
   "metadata": {},
   "source": [
    "# <a id='toc4_'></a>[<b>Handling Columns</b>](#toc0_)"
   ]
  },
  {
   "cell_type": "code",
   "execution_count": 11,
   "id": "5073bcc7",
   "metadata": {},
   "outputs": [],
   "source": [
    "raw_dataset['ReceivedDate'] = pd.to_datetime(raw_dataset['ReceivedDate'], errors='coerce', dayfirst=True)\n",
    "# data['ReceivedDate'] = data['ReceivedDate'].dt.strftime('%m/%d/%Y')\n",
    "raw_dataset['PaymentIssueDate'] = pd.to_datetime(raw_dataset['PaymentIssueDate'], errors='coerce', dayfirst=True)\n",
    "# data['ReceivedDate'] = data['PaymentIssueDate'].dt.strftime('%m/%d/%Y')\n",
    "raw_dataset['ServiceDate'] = pd.to_datetime(raw_dataset['ServiceDate'], errors='coerce', dayfirst=True)\n",
    "# data['ServiceDate'] = data['ServiceDate'].dt.strftime('%m/%d/%Y')"
   ]
  },
  {
   "cell_type": "markdown",
   "id": "48b33868",
   "metadata": {},
   "source": [
    "## <a id='toc4_1_'></a>[Check Dataset Type](#toc0_)"
   ]
  },
  {
   "cell_type": "code",
   "execution_count": 12,
   "id": "42d1700b",
   "metadata": {
    "scrolled": true
   },
   "outputs": [
    {
     "name": "stdout",
     "output_type": "stream",
     "text": [
      "<class 'pandas.core.frame.DataFrame'>\n",
      "RangeIndex: 107752 entries, 0 to 107751\n",
      "Data columns (total 16 columns):\n",
      " #   Column                  Non-Null Count   Dtype         \n",
      "---  ------                  --------------   -----         \n",
      " 0   Label1                  107752 non-null  bool          \n",
      " 1   Label2                  107752 non-null  bool          \n",
      " 2   DINLevel1ClassCode      107752 non-null  object        \n",
      " 3   ExpenseType             107752 non-null  object        \n",
      " 4   ReceivedDate            107752 non-null  datetime64[ns]\n",
      " 5   MemberIDscrambled       107752 non-null  int64         \n",
      " 6   ClaimSubmissionChannel  107752 non-null  object        \n",
      " 7   ClaimantAge             107752 non-null  int64         \n",
      " 8   ClaimantGender          107752 non-null  object        \n",
      " 9   FacilityIDscrambled     107752 non-null  int64         \n",
      " 10  MemberCity              107621 non-null  object        \n",
      " 11  MemberProvince          107692 non-null  object        \n",
      " 12  PaymentIssueDate        107752 non-null  datetime64[ns]\n",
      " 13  ServiceDate             107752 non-null  datetime64[ns]\n",
      " 14  SubmittedAmount         107752 non-null  object        \n",
      " 15  UniqueClaimCount        107752 non-null  int64         \n",
      "dtypes: bool(2), datetime64[ns](3), int64(4), object(7)\n",
      "memory usage: 11.7+ MB\n"
     ]
    }
   ],
   "source": [
    "## Check dataset type of each features\n",
    "raw_dataset.info()"
   ]
  },
  {
   "cell_type": "code",
   "execution_count": 13,
   "id": "cfd7995b",
   "metadata": {},
   "outputs": [
    {
     "data": {
      "text/plain": [
       "(107752, 16)"
      ]
     },
     "execution_count": 13,
     "metadata": {},
     "output_type": "execute_result"
    }
   ],
   "source": [
    "## Sanity Check\n",
    "raw_dataset.shape"
   ]
  },
  {
   "cell_type": "code",
   "execution_count": 14,
   "id": "d1002e89",
   "metadata": {},
   "outputs": [
    {
     "data": {
      "text/plain": [
       "Label1\n",
       "False    0.628601\n",
       "True     0.371399\n",
       "Name: proportion, dtype: float64"
      ]
     },
     "execution_count": 14,
     "metadata": {},
     "output_type": "execute_result"
    }
   ],
   "source": [
    "# Check label data\n",
    "raw_dataset.Label1.value_counts(normalize=True)"
   ]
  },
  {
   "cell_type": "code",
   "execution_count": 15,
   "id": "2947c9a0",
   "metadata": {},
   "outputs": [
    {
     "data": {
      "text/plain": [
       "Label2\n",
       "False    0.936187\n",
       "True     0.063813\n",
       "Name: proportion, dtype: float64"
      ]
     },
     "execution_count": 15,
     "metadata": {},
     "output_type": "execute_result"
    }
   ],
   "source": [
    "# Check label data\n",
    "raw_dataset.Label2.value_counts(normalize=True)"
   ]
  },
  {
   "cell_type": "code",
   "execution_count": 16,
   "id": "847b5c49",
   "metadata": {},
   "outputs": [],
   "source": [
    "## Save final raw dataset\n",
    "util.pickle_dump(raw_dataset, config_data[\"cleaned_raw_dataset_path\"])"
   ]
  },
  {
   "cell_type": "markdown",
   "id": "1a52c7ff",
   "metadata": {},
   "source": [
    "# <a id='toc7_'></a>[<b>Splitting Data</b>](#toc0_)"
   ]
  },
  {
   "cell_type": "code",
   "execution_count": 17,
   "id": "33fe1b6d",
   "metadata": {},
   "outputs": [],
   "source": [
    "# Split input/variable/feature with target/labet/output\n",
    "X = raw_dataset[config_data[\"predictor\"]].copy()\n",
    "y = raw_dataset[config_data[\"label\"]].copy()"
   ]
  },
  {
   "cell_type": "code",
   "execution_count": 18,
   "id": "63be6d64",
   "metadata": {},
   "outputs": [
    {
     "data": {
      "text/plain": [
       "Label1  Label2\n",
       "False   False     0.564788\n",
       "True    False     0.371399\n",
       "False   True      0.063813\n",
       "Name: proportion, dtype: float64"
      ]
     },
     "execution_count": 18,
     "metadata": {},
     "output_type": "execute_result"
    }
   ],
   "source": [
    "y.value_counts(normalize=True)"
   ]
  },
  {
   "cell_type": "markdown",
   "id": "f7fd11fd",
   "metadata": {},
   "source": [
    "    Data imbalance with 75% and 25%"
   ]
  },
  {
   "cell_type": "markdown",
   "id": "2ed03185",
   "metadata": {},
   "source": [
    "## <a id='toc7_1_'></a>[<b>Split Train and Test Data (7:3)</b>](#toc0_)"
   ]
  },
  {
   "cell_type": "code",
   "execution_count": 19,
   "id": "94f78ebe",
   "metadata": {},
   "outputs": [],
   "source": [
    "# First split, splitting train and test set with ratio 0.7:0.3 and do stratify splitting\n",
    "x_train, x_test, y_train, y_test = train_test_split(X, y, test_size = 0.2, random_state= 42, stratify= y)"
   ]
  },
  {
   "cell_type": "markdown",
   "id": "25987789",
   "metadata": {},
   "source": [
    "## <a id='toc7_2_'></a>[<b>Split Valid and Test Data (1:1)</b>](#toc0_)"
   ]
  },
  {
   "cell_type": "code",
   "execution_count": 20,
   "id": "64992140",
   "metadata": {},
   "outputs": [],
   "source": [
    "# Second split, splitting test and valid set with ratio 0.5:0.5 and do stratify splitting\n",
    "x_valid, x_test, y_valid, y_test = train_test_split(x_test, y_test, test_size = 0.5, random_state= 42, stratify= y_test)"
   ]
  },
  {
   "cell_type": "code",
   "execution_count": 21,
   "id": "91e9d9fd",
   "metadata": {},
   "outputs": [],
   "source": [
    "util.pickle_dump(x_train, config_data[\"train_set_path\"][0])\n",
    "util.pickle_dump(y_train, config_data[\"train_set_path\"][1])\n",
    "\n",
    "util.pickle_dump(x_valid, config_data[\"valid_set_path\"][0])\n",
    "util.pickle_dump(y_valid, config_data[\"valid_set_path\"][1])\n",
    "\n",
    "util.pickle_dump(x_test, config_data[\"test_set_path\"][0])\n",
    "util.pickle_dump(y_test, config_data[\"test_set_path\"][1])"
   ]
  }
 ],
 "metadata": {
  "kernelspec": {
   "display_name": "Python 3 (ipykernel)",
   "language": "python",
   "name": "python3"
  },
  "language_info": {
   "codemirror_mode": {
    "name": "ipython",
    "version": 3
   },
   "file_extension": ".py",
   "mimetype": "text/x-python",
   "name": "python",
   "nbconvert_exporter": "python",
   "pygments_lexer": "ipython3",
   "version": "3.10.13"
  },
  "vscode": {
   "interpreter": {
    "hash": "a90aeebcf29d64a654773811cc170cb25061cb2498f10ac689db374c7bf325de"
   }
  }
 },
 "nbformat": 4,
 "nbformat_minor": 5
}
